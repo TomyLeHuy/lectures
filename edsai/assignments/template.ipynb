{
 "cells": [
  {
   "metadata": {
    "collapsed": true
   },
   "cell_type": "markdown",
   "source": [
    "# Exercise Sheet X\n",
    "Tomy Huy Le - 7021280\n",
    "Bachelor Wirtschaftsinformatik\n",
    "\n",
    "This submission is a Python Jupyter notebook containing the solutions for the exercises. There will be Python code cells that can be executed to test my pseudocode solutions and verify their correctness. In addition Markdown cells will be used to explain my solutions and help with formatting."
   ],
   "id": "3a2fe158c2f0518e"
  },
  {
   "metadata": {},
   "cell_type": "markdown",
   "source": "## Exercise 1",
   "id": "3e598ffd0124762e"
  },
  {
   "metadata": {},
   "cell_type": "markdown",
   "source": "## Exercise 2",
   "id": "74e6f9c7d9944fce"
  },
  {
   "metadata": {},
   "cell_type": "markdown",
   "source": "## Exercise 3",
   "id": "b0590bb9a09402e5"
  },
  {
   "metadata": {},
   "cell_type": "markdown",
   "source": "## Exercise 4",
   "id": "e0ab681e3350cf6e"
  },
  {
   "metadata": {},
   "cell_type": "code",
   "outputs": [],
   "execution_count": null,
   "source": "",
   "id": "15d7e598bab53f2d"
  }
 ],
 "metadata": {
  "kernelspec": {
   "display_name": "Python 3",
   "language": "python",
   "name": "python3"
  },
  "language_info": {
   "codemirror_mode": {
    "name": "ipython",
    "version": 2
   },
   "file_extension": ".py",
   "mimetype": "text/x-python",
   "name": "python",
   "nbconvert_exporter": "python",
   "pygments_lexer": "ipython2",
   "version": "2.7.6"
  }
 },
 "nbformat": 4,
 "nbformat_minor": 5
}
