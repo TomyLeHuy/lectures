{
 "cells": [
  {
   "cell_type": "markdown",
   "id": "4b55aaac",
   "metadata": {},
   "source": [
    "# Introduction to Python: Data handling and data cleaning"
   ]
  },
  {
   "cell_type": "markdown",
   "id": "3ee338a4",
   "metadata": {},
   "source": [
    "### General elements to consider *before* getting started \n",
    "\n",
    "Builds on the assumption that you already have defined the overall goal of the analysis and that required data is already known.\n",
    "\n",
    "1) Do I have the infrastructure to store and process the data? (local machine vs. computing cluster vs. cloud)\n",
    "\n",
    "2) If handling personal or sensitive information, have the data subjects consented to your planned analysis?\n",
    "\n",
    "3) Does your planned analysis comply with the Terms of Services of the data owner?\n",
    "\n",
    "4) Do I have a version control system in place to track processing steps? (Data provenance)"
   ]
  },
  {
   "cell_type": "markdown",
   "id": "905c74e0",
   "metadata": {},
   "source": [
    "### General elements to consider *when* getting started\n",
    "\n",
    "1) Is data integrity ensured when loading the data? Is data loaded in the correct fomat? (categoricals, dates etc.)\n",
    "\n",
    "2) Is missing data present? (drop vs. impute)\n",
    "\n",
    "3) Are outliers present? Are they informative?\n",
    "\n",
    "4) Are duplicate values present? Are they informative?\n",
    "\n",
    "5) Are the processing steps well documented enough for others to understand?\n",
    "\n",
    "**==> Explore and visualize before getting into modelling!**"
   ]
  },
  {
   "cell_type": "markdown",
   "id": "e931bd67",
   "metadata": {},
   "source": [
    "# Research question"
   ]
  },
  {
   "cell_type": "markdown",
   "id": "ed545e0b",
   "metadata": {},
   "source": [
    "Are the recidivism predictions from the COMPAS software fair? Specifically, are the Type I & Type II errors from the COMPAS prediction of the risk of recidivism similar across subgroups of the population, e.g. defined by gender or race?"
   ]
  },
  {
   "cell_type": "markdown",
   "id": "5fd6a72a",
   "metadata": {},
   "source": [
    "**Type I**: Wrongly accusing the innocent (*False Positive*).\n",
    "\n",
    "**Type II**: Letting the guilty go free (*False Negative*)."
   ]
  },
  {
   "cell_type": "markdown",
   "id": "9ce1db19",
   "metadata": {},
   "source": [
    "# Let's start"
   ]
  },
  {
   "cell_type": "markdown",
   "id": "8e8aa4a7",
   "metadata": {},
   "source": [
    "Some information about the dataset:\n",
    "\n",
    "- Data source: Sheriff’s Office of Broward County, Florida, USA\n",
    "- Period of observation: Two full years, 2013-14\n",
    "- Unit of observation: Assessment per defendant per case."
   ]
  },
  {
   "cell_type": "markdown",
   "id": "b0678fce",
   "metadata": {},
   "source": [
    "### Import Libraries\n",
    "Import relevant libraries first. Unless there is a reason not to do so, always add libraries at the beginning of the script as it allows you to keep better track of the libraries used.\n",
    "\n",
    "In general, KISS holds: **K**eep **I**t **S**imple, **S**tupid!"
   ]
  },
  {
   "cell_type": "code",
   "execution_count": null,
   "id": "491ba601",
   "metadata": {},
   "outputs": [],
   "source": [
    "import pandas as pd\n",
    "import matplotlib.pyplot as plt\n",
    "\n",
    "from helper_functions import filter_unique"
   ]
  },
  {
   "cell_type": "markdown",
   "id": "5ab1c600",
   "metadata": {},
   "source": [
    "### Import Private Functions\n",
    "As ideally you have separately saved the functions that you have defined yourself for other work before, this is the place to import them."
   ]
  },
  {
   "cell_type": "code",
   "execution_count": null,
   "id": "571cc492",
   "metadata": {},
   "outputs": [],
   "source": [
    "%run my_functions.ipynb"
   ]
  },
  {
   "cell_type": "markdown",
   "id": "4173847b-1778-4e2c-bbd0-74cd78257de9",
   "metadata": {},
   "source": [
    "----> Naming conventions"
   ]
  },
  {
   "cell_type": "markdown",
   "id": "55284b4c",
   "metadata": {},
   "source": [
    "### Import Data"
   ]
  },
  {
   "cell_type": "markdown",
   "id": "8841de1a",
   "metadata": {},
   "source": [
    "Here, we are interested in the [COMPAS recidivism dataset](https://github.com/propublica/compas-analysis/blob/master/compas-scores-raw.csv). We can either download it and load it from local or directly load it from the source."
   ]
  },
  {
   "cell_type": "code",
   "execution_count": null,
   "id": "1f103493",
   "metadata": {},
   "outputs": [],
   "source": [
    "!cat compas-scores-raw.csv"
   ]
  },
  {
   "cell_type": "code",
   "execution_count": null,
   "id": "bd564949",
   "metadata": {
    "scrolled": true
   },
   "outputs": [],
   "source": [
    "df_raw = pd.read_csv('compas-scores-raw.csv', dtype={'Person_ID': str})"
   ]
  },
  {
   "cell_type": "markdown",
   "id": "fb032ec3-53a0-4f86-aa6e-9ce669dc561a",
   "metadata": {},
   "source": [
    "----> Data types"
   ]
  },
  {
   "cell_type": "code",
   "execution_count": null,
   "id": "fafa1377-2d7a-4e77-82be-84701f1a86b4",
   "metadata": {},
   "outputs": [],
   "source": [
    "print(df_raw)"
   ]
  },
  {
   "cell_type": "markdown",
   "id": "1ceb96af",
   "metadata": {},
   "source": [
    "Sometimes it makes sense to cast certain columns directly to a certain data type as otherwise information will be lost. You can do that via the `dtype` argument, e.g.: dtype={'Person_ID': str}"
   ]
  },
  {
   "cell_type": "code",
   "execution_count": null,
   "id": "64f69f0a",
   "metadata": {
    "scrolled": true
   },
   "outputs": [],
   "source": [
    "type(df_raw)"
   ]
  },
  {
   "cell_type": "markdown",
   "id": "07cb4496",
   "metadata": {},
   "source": [
    "### Basic exploration"
   ]
  },
  {
   "cell_type": "markdown",
   "id": "d8033a92",
   "metadata": {},
   "source": [
    "Let's first look at the size of the table"
   ]
  },
  {
   "cell_type": "code",
   "execution_count": null,
   "id": "92293933-5d69-487f-932e-8424267d522b",
   "metadata": {},
   "outputs": [],
   "source": [
    "dir(df_raw)"
   ]
  },
  {
   "cell_type": "code",
   "execution_count": null,
   "id": "eb6d2fea",
   "metadata": {},
   "outputs": [],
   "source": [
    "df_raw.shape"
   ]
  },
  {
   "cell_type": "markdown",
   "id": "131ad0ed",
   "metadata": {},
   "source": [
    "Which data types are used and are missing values present?"
   ]
  },
  {
   "cell_type": "code",
   "execution_count": null,
   "id": "b8aa76ab",
   "metadata": {},
   "outputs": [],
   "source": [
    "df_raw.info()"
   ]
  },
  {
   "cell_type": "markdown",
   "id": "a4489b3e",
   "metadata": {},
   "source": [
    "Why do we have a few missings in the ScoreText variable? But first, let's look how the first three records look like:"
   ]
  },
  {
   "cell_type": "code",
   "execution_count": null,
   "id": "f4813b3d",
   "metadata": {
    "scrolled": true
   },
   "outputs": [],
   "source": [
    "df_raw.head(3) #df_raw.tail(3)"
   ]
  },
  {
   "cell_type": "markdown",
   "id": "f2b96d8d",
   "metadata": {},
   "source": [
    "Is the whole dataset all about Kevin Fisher?"
   ]
  },
  {
   "cell_type": "code",
   "execution_count": null,
   "id": "d9bcd319",
   "metadata": {},
   "outputs": [],
   "source": [
    "df_raw.head(10)"
   ]
  },
  {
   "cell_type": "markdown",
   "id": "448e51f0",
   "metadata": {},
   "source": [
    "No, but apparently there are three observations for each Person/Case. Is that the case for every entry?"
   ]
  },
  {
   "cell_type": "code",
   "execution_count": null,
   "id": "b65f8f1c",
   "metadata": {},
   "outputs": [],
   "source": [
    "df_raw['RawScore'].min()"
   ]
  },
  {
   "cell_type": "code",
   "execution_count": null,
   "id": "afbec44d",
   "metadata": {},
   "outputs": [],
   "source": [
    "df_raw['RawScore'].describe()"
   ]
  },
  {
   "cell_type": "code",
   "execution_count": null,
   "id": "e405c863",
   "metadata": {},
   "outputs": [],
   "source": [
    "(df_raw.groupby(['Person_ID', 'AssessmentID', 'Case_ID'])['LastName']\n",
    "  .count()\n",
    "  .reset_index()\n",
    "  .describe())"
   ]
  },
  {
   "cell_type": "code",
   "execution_count": null,
   "id": "bcfbf0c5",
   "metadata": {},
   "outputs": [],
   "source": [
    "(df_raw\n",
    " .groupby(['Person_ID', 'AssessmentID', 'Case_ID'])['LastName']\n",
    " .count()\n",
    ".reset_index()\n",
    ".describe())"
   ]
  },
  {
   "cell_type": "markdown",
   "id": "799ae9a1",
   "metadata": {},
   "source": [
    "Yes, apparently that's the case for every Person/Case. If they are perfect duplicates, we may remove them."
   ]
  },
  {
   "cell_type": "code",
   "execution_count": null,
   "id": "f8152eb6-cd8e-4f23-bb6a-812d89bfc49e",
   "metadata": {},
   "outputs": [],
   "source": [
    "df_raw.duplicated()"
   ]
  },
  {
   "cell_type": "code",
   "execution_count": null,
   "id": "b885f582",
   "metadata": {},
   "outputs": [],
   "source": [
    "df_raw.duplicated().sum()"
   ]
  },
  {
   "cell_type": "markdown",
   "id": "c2d64fc1",
   "metadata": {},
   "source": [
    "OK, they differ in some fields. Which though?"
   ]
  },
  {
   "cell_type": "code",
   "execution_count": null,
   "id": "1d6d15f0",
   "metadata": {},
   "outputs": [],
   "source": [
    "df_raw[0:3]"
   ]
  },
  {
   "cell_type": "code",
   "execution_count": null,
   "id": "9949a970-100f-4d4c-ac75-0460d7f684de",
   "metadata": {},
   "outputs": [],
   "source": [
    "df_raw[0:3].nunique()"
   ]
  },
  {
   "cell_type": "markdown",
   "id": "e6b68eeb",
   "metadata": {},
   "source": [
    "Is that similar for all Persons/Cases?"
   ]
  },
  {
   "cell_type": "code",
   "execution_count": null,
   "id": "d97ed6cc-9ceb-443c-b183-06e01e2710de",
   "metadata": {},
   "outputs": [],
   "source": [
    "df_raw.groupby(['Person_ID', 'AssessmentID', 'Case_ID']).nunique().describe().transpose()"
   ]
  },
  {
   "cell_type": "code",
   "execution_count": null,
   "id": "f09cd042",
   "metadata": {},
   "outputs": [],
   "source": [
    "df_raw.groupby(['Person_ID', 'AssessmentID', 'Case_ID']).nunique().describe().transpose()"
   ]
  },
  {
   "cell_type": "markdown",
   "id": "a7608f5a",
   "metadata": {},
   "source": [
    "What's the Scale_ID? A bit hidden in the methodology note, it says: *Each pretrial defendant received at least three COMPAS scores: “Risk of Recidivism,” “Risk of Violence” and “Risk of Failure to Appear.”*. This should be stated in `DisplayText` then probably."
   ]
  },
  {
   "cell_type": "code",
   "execution_count": null,
   "id": "c2068784",
   "metadata": {},
   "outputs": [],
   "source": [
    "df_raw.DisplayText.unique()"
   ]
  },
  {
   "cell_type": "markdown",
   "id": "0dd747f4",
   "metadata": {},
   "source": [
    "OK, we can now be quite certain that there are no duplicates within a given `Person_ID` + `AssessmentID` + `Case_ID` combination and that those combinations are also unique in the dataset. But can we be sure no incident is accidently recorded twice with a different `Case_ID`, for example? In the lecture, we trust in the data quality, in the exercises, however, you don't, so be excited!"
   ]
  },
  {
   "cell_type": "markdown",
   "id": "018989c7",
   "metadata": {},
   "source": [
    "### Reshaping data"
   ]
  },
  {
   "cell_type": "markdown",
   "id": "b6dbd709",
   "metadata": {},
   "source": [
    "Right now, for a given `Person_ID` + `AssessmentID` + `Case_ID` combination, 23 out of the 28 columns are duplicates. Can we reduce the size and thus the memory space? We could pivot the table from long to wide. We would go from 60843x28 to 20421x33. Let's try it first on a small subset."
   ]
  },
  {
   "cell_type": "code",
   "execution_count": null,
   "id": "e5a62a3a-879a-4e06-8696-70f6df55697b",
   "metadata": {},
   "outputs": [],
   "source": [
    "df_raw[0:3]"
   ]
  },
  {
   "cell_type": "code",
   "execution_count": null,
   "id": "763c08bf-8b36-4849-8e0b-b34abd3f5493",
   "metadata": {},
   "outputs": [],
   "source": [
    "df_raw.loc[0:2, ['Case_ID', 'LastName']]"
   ]
  },
  {
   "cell_type": "code",
   "execution_count": null,
   "id": "1fe009a9",
   "metadata": {},
   "outputs": [],
   "source": [
    "test = (df_raw\n",
    " .loc[0:2,['Case_ID',\n",
    "           'DisplayText',\n",
    "           'RawScore']]\n",
    " .pivot_table(index='Case_ID',\n",
    "              columns='DisplayText',\n",
    "              values='RawScore')\n",
    " .reset_index())"
   ]
  },
  {
   "cell_type": "code",
   "execution_count": null,
   "id": "634e2238-cfa3-48ea-86cb-4e72cb4e6a42",
   "metadata": {},
   "outputs": [],
   "source": [
    "test['this is a column']"
   ]
  },
  {
   "cell_type": "code",
   "execution_count": null,
   "id": "7a5d1b27-48c1-470d-80f6-4761bef03e2a",
   "metadata": {},
   "outputs": [],
   "source": [
    "test.this a column"
   ]
  },
  {
   "cell_type": "code",
   "execution_count": null,
   "id": "4c2b0084",
   "metadata": {},
   "outputs": [],
   "source": [
    "test"
   ]
  },
  {
   "cell_type": "code",
   "execution_count": null,
   "id": "1fa00c44",
   "metadata": {},
   "outputs": [],
   "source": [
    "test['Risk of Failure to Appear']"
   ]
  },
  {
   "cell_type": "markdown",
   "id": "9acf606c",
   "metadata": {},
   "source": [
    "OK, that seems to work, but the new column names don't match good practices. Let's remove the spaces in the column `DisplayText`."
   ]
  },
  {
   "cell_type": "code",
   "execution_count": null,
   "id": "9e3a6d13",
   "metadata": {},
   "outputs": [],
   "source": [
    "df_raw['DisplayText'] = df_raw.DisplayText.str.replace(' ', '')"
   ]
  },
  {
   "cell_type": "code",
   "execution_count": null,
   "id": "aaa48cb5",
   "metadata": {},
   "outputs": [],
   "source": [
    "df_raw.DisplayText.unique()"
   ]
  },
  {
   "cell_type": "markdown",
   "id": "5e0f2516",
   "metadata": {},
   "source": [
    "We now pivot the whole dataset."
   ]
  },
  {
   "cell_type": "code",
   "execution_count": null,
   "id": "c9ef443c",
   "metadata": {},
   "outputs": [],
   "source": [
    "pivot_fields = ['DisplayText', 'RawScore', 'DecileScore', 'ScoreText']\n",
    "pivot_index = [col for col in df_raw.columns.tolist() if col not in pivot_fields]"
   ]
  },
  {
   "cell_type": "code",
   "execution_count": null,
   "id": "78727106-a0ab-4bf3-9f13-852e04e0be47",
   "metadata": {},
   "outputs": [],
   "source": [
    "pivot_index"
   ]
  },
  {
   "cell_type": "markdown",
   "id": "5eb3e147-82f6-44e3-adea-2332de3c0f92",
   "metadata": {},
   "source": [
    "----> 05_Control_Logics\n",
    "----> 07_Comprehensions_and_Functional_Programming"
   ]
  },
  {
   "cell_type": "markdown",
   "id": "4e4f9510",
   "metadata": {},
   "source": [
    "We still have `Scale_ID` in it (which varies within a group) and the `MiddleName` (which in many cases are missing). We could handle both to be accounted for when pivoting, but for now, we drop them."
   ]
  },
  {
   "cell_type": "code",
   "execution_count": null,
   "id": "fbfb0ef1",
   "metadata": {},
   "outputs": [],
   "source": [
    "pivot_index.remove('MiddleName')\n",
    "pivot_index.remove('Scale_ID')"
   ]
  },
  {
   "cell_type": "code",
   "execution_count": null,
   "id": "2a9cc84f",
   "metadata": {},
   "outputs": [],
   "source": [
    "df_wide = df_raw.pivot_table(index=pivot_index, columns='DisplayText', values=['RawScore', 'DecileScore', 'ScoreText'], aggfunc='first')"
   ]
  },
  {
   "cell_type": "code",
   "execution_count": null,
   "id": "93377511",
   "metadata": {},
   "outputs": [],
   "source": [
    "df_wide.info()"
   ]
  },
  {
   "cell_type": "markdown",
   "id": "67fea1e6",
   "metadata": {},
   "source": [
    "This looks good. However, we have a multi-level index in the columns right now. Let's reduce it and separate with an underscore."
   ]
  },
  {
   "cell_type": "code",
   "execution_count": null,
   "id": "912334ea",
   "metadata": {},
   "outputs": [],
   "source": [
    "df_wide.columns = ['{}_{}'.format(col[1], col[0]) for col in df_wide.columns]"
   ]
  },
  {
   "cell_type": "markdown",
   "id": "57cb4f28",
   "metadata": {},
   "source": [
    "We put the index back as a normal column."
   ]
  },
  {
   "cell_type": "code",
   "execution_count": null,
   "id": "a9fe1798",
   "metadata": {},
   "outputs": [],
   "source": [
    "df_wide.reset_index(inplace=True)"
   ]
  },
  {
   "cell_type": "code",
   "execution_count": null,
   "id": "6e9f1e83",
   "metadata": {},
   "outputs": [],
   "source": [
    "df_wide"
   ]
  },
  {
   "cell_type": "markdown",
   "id": "c9ae2932",
   "metadata": {},
   "source": [
    "Check whether we have some duplicates in here."
   ]
  },
  {
   "cell_type": "code",
   "execution_count": null,
   "id": "c93f736d",
   "metadata": {},
   "outputs": [],
   "source": [
    "df_wide[['Person_ID', 'AssessmentID', 'Case_ID']].duplicated().sum()"
   ]
  },
  {
   "cell_type": "markdown",
   "id": "35b2743c",
   "metadata": {},
   "source": [
    "Were some people assessed multiple times?"
   ]
  },
  {
   "cell_type": "code",
   "execution_count": null,
   "id": "edf3b99a",
   "metadata": {},
   "outputs": [],
   "source": [
    "df_wide.groupby('Person_ID')['Case_ID'].count().describe()"
   ]
  },
  {
   "cell_type": "markdown",
   "id": "944c6a25",
   "metadata": {},
   "source": [
    "### Simple validity checks\n",
    "\n",
    "Let's assume we are interested in the **risk of recidivism** disaggregated by **gender** and **race**. We now explore whether there is some obvious artifacts in the data."
   ]
  },
  {
   "cell_type": "markdown",
   "id": "53fc76e1",
   "metadata": {},
   "source": [
    "##### Recidivism"
   ]
  },
  {
   "cell_type": "code",
   "execution_count": null,
   "id": "f426de1d",
   "metadata": {},
   "outputs": [],
   "source": [
    "df_wide.loc[:,df_wide.columns.str.contains(\"RiskofRecidivism\")].describe()"
   ]
  },
  {
   "cell_type": "markdown",
   "id": "62f20c87",
   "metadata": {},
   "source": [
    "One variable is missing, since it is an object type."
   ]
  },
  {
   "cell_type": "code",
   "execution_count": null,
   "id": "9ead4c46",
   "metadata": {},
   "outputs": [],
   "source": [
    "df_wide.RiskofRecidivism_DecileScore.value_counts()"
   ]
  },
  {
   "cell_type": "markdown",
   "id": "3c7b30d6",
   "metadata": {},
   "source": [
    "Why is there a -1 in the `RiskofRecidivism_DecileScore`? In the [methodology](https://www.propublica.org/article/how-we-analyzed-the-compas-recidivism-algorithm) it says: *COMPAS scores for each defendant ranged from 1 to 10, with ten being the highest risk. Scores 1 to 4 were labeled by COMPAS as “Low”; 5 to 7 were labeled “Medium”; and 8 to 10 were labeled “High.”*. Let's check the number of classes in `RiskofRecidivism_DecileScore`."
   ]
  },
  {
   "cell_type": "code",
   "execution_count": null,
   "id": "9ecf09d8",
   "metadata": {},
   "outputs": [],
   "source": [
    "df_wide.RiskofRecidivism_DecileScore.unique()"
   ]
  },
  {
   "cell_type": "markdown",
   "id": "9edeb45a",
   "metadata": {},
   "source": [
    "There is no 0, but a -1. Let's have a look at the cases."
   ]
  },
  {
   "cell_type": "code",
   "execution_count": null,
   "id": "dd7884b1",
   "metadata": {},
   "outputs": [],
   "source": [
    "df_wide[df_wide.RiskofRecidivism_DecileScore == -1]"
   ]
  },
  {
   "cell_type": "markdown",
   "id": "f8defa4f",
   "metadata": {},
   "source": [
    "These are exactly those 36 rows that make up for the 36 missing values in the field `RiskofRecidivism_ScoreText`. Interestingly, they all have a `RiskofRecidivism_RawScore` of -1.0. Does it hold true for all cases with a -1.0 score?"
   ]
  },
  {
   "cell_type": "code",
   "execution_count": null,
   "id": "75ca01fa",
   "metadata": {
    "scrolled": true
   },
   "outputs": [],
   "source": [
    "df_wide[df_wide.RiskofRecidivism_RawScore == -1]['RiskofRecidivism_ScoreText'].unique()"
   ]
  },
  {
   "cell_type": "markdown",
   "id": "be63041e",
   "metadata": {},
   "source": [
    "No. But maybe some other variables causes it. Let's look for those variables that have only one value across our cases."
   ]
  },
  {
   "cell_type": "code",
   "execution_count": null,
   "id": "89b81694",
   "metadata": {},
   "outputs": [],
   "source": [
    "unique_counts = df_wide[df_wide.RiskofRecidivism_DecileScore == -1].nunique()"
   ]
  },
  {
   "cell_type": "code",
   "execution_count": null,
   "id": "ac9776c4",
   "metadata": {},
   "outputs": [],
   "source": [
    "unique_counts"
   ]
  },
  {
   "cell_type": "markdown",
   "id": "21030759",
   "metadata": {},
   "source": [
    "Let's see if any of those variables that don't vary here may only take this value across these cases ."
   ]
  },
  {
   "cell_type": "code",
   "execution_count": null,
   "id": "c09170b4",
   "metadata": {},
   "outputs": [],
   "source": [
    "df_wide.loc[:,unique_counts[unique_counts <= 1].index]['RiskofRecidivism_DecileScore'].unique()"
   ]
  },
  {
   "cell_type": "markdown",
   "id": "1d91739c",
   "metadata": {},
   "source": [
    "No, there is no direct link visible. We could further explore that, e.g. by checking whether self-constructed deciles on the `RawScore` match the `DecileScore` and run other checks. For simplicity, we simply drop them here."
   ]
  },
  {
   "cell_type": "code",
   "execution_count": null,
   "id": "1728e43f",
   "metadata": {},
   "outputs": [],
   "source": [
    "df_wide = df_wide.loc[df_wide.RiskofRecidivism_DecileScore != -1].copy()"
   ]
  },
  {
   "cell_type": "code",
   "execution_count": null,
   "id": "1cd955de",
   "metadata": {},
   "outputs": [],
   "source": [
    "df_wide.RiskofRecidivism_DecileScore.value_counts()"
   ]
  },
  {
   "cell_type": "code",
   "execution_count": null,
   "id": "5f7bba37",
   "metadata": {},
   "outputs": [],
   "source": [
    "plt.hist(df_wide.RiskofRecidivism_DecileScore, density = True)\n",
    "plt.show()"
   ]
  },
  {
   "cell_type": "markdown",
   "id": "624a101e",
   "metadata": {},
   "source": [
    "##### Gender"
   ]
  },
  {
   "cell_type": "code",
   "execution_count": null,
   "id": "3350cd33",
   "metadata": {},
   "outputs": [],
   "source": [
    "df_wide.Sex_Code_Text.value_counts()"
   ]
  },
  {
   "cell_type": "markdown",
   "id": "dd2187e6",
   "metadata": {},
   "source": [
    "Get share of women"
   ]
  },
  {
   "cell_type": "code",
   "execution_count": null,
   "id": "d365e1be",
   "metadata": {},
   "outputs": [],
   "source": [
    "df_wide.loc[df_wide.Sex_Code_Text == 'Female', 'Sex_Code_Text'].count() / df_wide.loc[:,'Sex_Code_Text'].count()"
   ]
  },
  {
   "cell_type": "markdown",
   "id": "141fc7a3",
   "metadata": {},
   "source": [
    "Variable seems ok. Could do sanity check with external sources."
   ]
  },
  {
   "cell_type": "markdown",
   "id": "cb94a80c",
   "metadata": {},
   "source": [
    "##### Race"
   ]
  },
  {
   "cell_type": "code",
   "execution_count": null,
   "id": "8b000949",
   "metadata": {},
   "outputs": [],
   "source": [
    "df_wide.Ethnic_Code_Text.value_counts()"
   ]
  },
  {
   "cell_type": "markdown",
   "id": "978f44e8",
   "metadata": {},
   "source": [
    "We see that there are two entries for African-Am(erican). Let's align them."
   ]
  },
  {
   "cell_type": "code",
   "execution_count": null,
   "id": "3b8829e0",
   "metadata": {},
   "outputs": [],
   "source": [
    "df_wide.loc[df_wide.Ethnic_Code_Text == 'African-Am', 'Ethnic_Code_Text'] = 'African-American'"
   ]
  },
  {
   "cell_type": "markdown",
   "id": "fe95e8ef",
   "metadata": {},
   "source": [
    "Look at them as a table:"
   ]
  },
  {
   "cell_type": "code",
   "execution_count": null,
   "id": "c00c94d3",
   "metadata": {},
   "outputs": [],
   "source": [
    "df_wide.groupby(['Ethnic_Code_Text', 'Sex_Code_Text']).size().unstack().reset_index()"
   ]
  },
  {
   "cell_type": "markdown",
   "id": "8a222a20",
   "metadata": {},
   "source": [
    "One could further explore the difference between Arabic and Oriental and understand which people are grouped in others. We don't do that here. We simply plot it."
   ]
  },
  {
   "cell_type": "markdown",
   "id": "0f4d5106",
   "metadata": {},
   "source": [
    "By race"
   ]
  },
  {
   "cell_type": "code",
   "execution_count": null,
   "id": "ff521722",
   "metadata": {},
   "outputs": [],
   "source": [
    "plt.hist(df_wide.loc[df_wide.Ethnic_Code_Text == 'African-American', 'RiskofRecidivism_DecileScore'], density=True)"
   ]
  },
  {
   "cell_type": "code",
   "execution_count": null,
   "id": "26402495",
   "metadata": {},
   "outputs": [],
   "source": [
    "fig, axs = plt.subplots(1,3, figsize = (18,5))\n",
    "\n",
    "# African-Americans\n",
    "axs[0].hist(df_wide.loc[df_wide.Ethnic_Code_Text == 'African-American', 'RiskofRecidivism_DecileScore'], density=True)\n",
    "axs[1].hist(df_wide.loc[df_wide.Ethnic_Code_Text == 'Caucasian', 'RiskofRecidivism_DecileScore'], density=True)\n",
    "axs[2].hist(df_wide.loc[df_wide.Ethnic_Code_Text == 'Hispanic', 'RiskofRecidivism_DecileScore'], density=True)\n",
    "\n",
    "axs[0].set_xlabel('Risk of Recidivism - Decile Score')\n",
    "axs[1].set_xlabel('Risk of Recidivism - Decile Score')\n",
    "axs[2].set_xlabel('Risk of Recidivism - Decile Score')\n",
    "\n",
    "axs[0].set_ylabel('Rel. Frequency')\n",
    "axs[1].set_ylabel('Rel. Frequency')\n",
    "axs[2].set_ylabel('Rel. Frequency')\n",
    "\n",
    "axs[0].set_title('Histogram of Risk of Recidivism (African-Americans only)')\n",
    "axs[1].set_title('Histogram of Risk of Recidivism (Caucasians only)')\n",
    "axs[2].set_title('Histogram of Risk of Recidivism (Hispanics only)')\n",
    "\n",
    "plt.show()"
   ]
  },
  {
   "cell_type": "markdown",
   "id": "a6b13033",
   "metadata": {},
   "source": [
    "By gender"
   ]
  },
  {
   "cell_type": "code",
   "execution_count": null,
   "id": "3d625df8",
   "metadata": {},
   "outputs": [],
   "source": [
    "fig, axs = plt.subplots(1,2, figsize = (18,5))\n",
    "\n",
    "# African-Americans\n",
    "axs[0].hist(df_wide.loc[df_wide.Sex_Code_Text == 'Male', 'RiskofRecidivism_DecileScore'], density=True)\n",
    "axs[1].hist(df_wide.loc[df_wide.Sex_Code_Text == 'Female', 'RiskofRecidivism_DecileScore'], density=True)\n",
    "\n",
    "axs[0].set_xlabel('Risk of Recidivism - Decile Score')\n",
    "axs[1].set_xlabel('Risk of Recidivism - Decile Score')\n",
    "\n",
    "axs[0].set_ylabel('Rel. Frequency')\n",
    "axs[1].set_ylabel('Rel. Frequency')\n",
    "\n",
    "axs[0].set_title('Histogram of Risk of Recidivism (Men only)')\n",
    "axs[1].set_title('Histogram of Risk of Recidivism (Women only)')\n",
    "\n",
    "plt.show()"
   ]
  },
  {
   "cell_type": "markdown",
   "id": "e096e42c",
   "metadata": {},
   "source": [
    "Especially for race, we see quite some big differences. Can we use the existing dataset to check whether those COMPAS predictions are fair?"
   ]
  },
  {
   "cell_type": "markdown",
   "id": "dd16057c",
   "metadata": {},
   "source": [
    "### Initial check for bias"
   ]
  },
  {
   "cell_type": "markdown",
   "id": "43ebcf5c",
   "metadata": {},
   "source": [
    "Recall that we have some people multiple times in the dataset. Following the histograms above, we should see a comparatively higher share of African-Americans in this group."
   ]
  },
  {
   "cell_type": "markdown",
   "id": "97eb5388",
   "metadata": {},
   "source": [
    "##### Type II error: Let the guilty go free, i.e. reoffended although being judged low risk."
   ]
  },
  {
   "cell_type": "code",
   "execution_count": null,
   "id": "f1f6b268",
   "metadata": {},
   "outputs": [],
   "source": [
    "df_multiple = df_wide[df_wide.Person_ID.duplicated(keep=False)]"
   ]
  },
  {
   "cell_type": "code",
   "execution_count": null,
   "id": "933f1226",
   "metadata": {},
   "outputs": [],
   "source": [
    "len(df_multiple.Person_ID.unique())"
   ]
  },
  {
   "cell_type": "code",
   "execution_count": null,
   "id": "f6baf02c",
   "metadata": {},
   "outputs": [],
   "source": [
    "df_multiple.Person_ID.nunique()"
   ]
  },
  {
   "cell_type": "code",
   "execution_count": null,
   "id": "29d6ecaf",
   "metadata": {},
   "outputs": [],
   "source": [
    "df_multiple.groupby('Person_ID')['Screening_Date'].nunique().describe()"
   ]
  },
  {
   "cell_type": "markdown",
   "id": "66c2ad27",
   "metadata": {},
   "source": [
    "We see some individuals were screened multiple times on the same day. One should explore that if there is a relevant reason for that. Here we simply drop them."
   ]
  },
  {
   "cell_type": "code",
   "execution_count": null,
   "id": "6de306c9",
   "metadata": {},
   "outputs": [],
   "source": [
    "df_multiple.groupby('Person_ID')['Screening_Date'].nunique() != 1"
   ]
  },
  {
   "cell_type": "code",
   "execution_count": null,
   "id": "7ae07e7b-6414-40ba-afd1-ea392d9ca83c",
   "metadata": {},
   "outputs": [],
   "source": [
    "list(set(list(a)))"
   ]
  },
  {
   "cell_type": "code",
   "execution_count": null,
   "id": "3320b934-c45e-4bfb-bb01-4185f3859a21",
   "metadata": {},
   "outputs": [],
   "source": []
  },
  {
   "cell_type": "code",
   "execution_count": null,
   "id": "a1185ccb",
   "metadata": {},
   "outputs": [],
   "source": [
    "def filter_unique(group):\n",
    "    return group['Screening_Date'].nunique() == len(group['Screening_Date'])"
   ]
  },
  {
   "cell_type": "code",
   "execution_count": null,
   "id": "71fa5888",
   "metadata": {},
   "outputs": [],
   "source": [
    "df_multiple = (df_multiple\n",
    "               .groupby('Person_ID')\n",
    "               .filter(filter_unique)\n",
    "               .reset_index(drop = True)\n",
    "               .copy())"
   ]
  },
  {
   "cell_type": "code",
   "execution_count": null,
   "id": "eb807164-9329-404e-8039-04024cfb607c",
   "metadata": {},
   "outputs": [],
   "source": [
    "df_multiple = (\n",
    "    df_multiple\n",
    "    .groupby('Person_ID')\n",
    "    .filter(lambda group: group['Screening_Date'].nunique() == len(group['Screening_Date']))\n",
    "    .reset_index(drop=True)\n",
    "    .copy()\n",
    ")"
   ]
  },
  {
   "cell_type": "markdown",
   "id": "55ba6dea",
   "metadata": {},
   "source": [
    "Let's try if that has worked:"
   ]
  },
  {
   "cell_type": "code",
   "execution_count": null,
   "id": "4056d4ba",
   "metadata": {},
   "outputs": [],
   "source": [
    "df_multiple.groupby('Person_ID')['Screening_Date'].nunique().describe()"
   ]
  },
  {
   "cell_type": "code",
   "execution_count": null,
   "id": "2e7c28dd",
   "metadata": {},
   "outputs": [],
   "source": [
    "fig, axs = plt.subplots(1,3, figsize = (18,5))\n",
    "\n",
    "# African-Americans\n",
    "axs[0].hist(df_multiple.loc[df_multiple.Ethnic_Code_Text == 'African-American', 'RiskofRecidivism_DecileScore'], density=True)\n",
    "axs[1].hist(df_multiple.loc[df_multiple.Ethnic_Code_Text == 'Caucasian', 'RiskofRecidivism_DecileScore'], density=True)\n",
    "axs[2].hist(df_multiple.loc[df_multiple.Ethnic_Code_Text == 'Hispanic', 'RiskofRecidivism_DecileScore'], density=True)\n",
    "\n",
    "axs[0].set_xlabel('Risk of Recidivism - Decile Score')\n",
    "axs[1].set_xlabel('Risk of Recidivism - Decile Score')\n",
    "axs[2].set_xlabel('Risk of Recidivism - Decile Score')\n",
    "\n",
    "axs[0].set_ylabel('Rel. Frequency')\n",
    "axs[1].set_ylabel('Rel. Frequency')\n",
    "axs[2].set_ylabel('Rel. Frequency')\n",
    "\n",
    "axs[0].set_title('Histogram of Risk of Recidivism (African-Americans only)')\n",
    "axs[1].set_title('Histogram of Risk of Recidivism (Caucasians only)')\n",
    "axs[2].set_title('Histogram of Risk of Recidivism (Hispanics only)')\n",
    "\n",
    "plt.show()"
   ]
  },
  {
   "cell_type": "code",
   "execution_count": null,
   "id": "74584535",
   "metadata": {},
   "outputs": [],
   "source": [
    "df_recid = df_multiple.groupby(['Ethnic_Code_Text', 'RiskofRecidivism_ScoreText']).size().unstack().reset_index()"
   ]
  },
  {
   "cell_type": "code",
   "execution_count": null,
   "id": "889f4ddf",
   "metadata": {},
   "outputs": [],
   "source": [
    "df_recid['Total'] = df_recid['Low'] + df_recid['Medium'] + df_recid['High']\n",
    "df_recid['low_share'] = df_recid['Low']/df_recid['Total']\n",
    "df_recid"
   ]
  },
  {
   "cell_type": "markdown",
   "id": "937b77ba",
   "metadata": {},
   "source": [
    "We see that only about 26% percent of the African-Americans who apparently reoffended were assumed to be low-risk of recidivism, whereas for the Caucasians and Hispanics, these this share was around 60%. One may conclude from that that Caucasians and Hispanics are more likely perceived to be low risk even though they aren't vis-à-vis African-Americans."
   ]
  },
  {
   "cell_type": "markdown",
   "id": "a9d15da9",
   "metadata": {},
   "source": [
    "Let's repeat that the other way around."
   ]
  },
  {
   "cell_type": "markdown",
   "id": "99b1af1c",
   "metadata": {},
   "source": [
    "##### Type I: Wrongfully accuse the innocent, i.e. hasn't reoffended although being judged high risk."
   ]
  },
  {
   "cell_type": "code",
   "execution_count": null,
   "id": "a75b22c7",
   "metadata": {},
   "outputs": [],
   "source": [
    "df_single = df_wide[~df_wide.Person_ID.duplicated(keep=False)]"
   ]
  },
  {
   "cell_type": "code",
   "execution_count": null,
   "id": "8c04f50e",
   "metadata": {},
   "outputs": [],
   "source": [
    "len(df_single.Person_ID)"
   ]
  },
  {
   "cell_type": "code",
   "execution_count": null,
   "id": "27555b9d",
   "metadata": {},
   "outputs": [],
   "source": [
    "df_single.Person_ID.nunique()"
   ]
  },
  {
   "cell_type": "code",
   "execution_count": null,
   "id": "d41b8885",
   "metadata": {},
   "outputs": [],
   "source": [
    "df_norecid = df_single.groupby(['Ethnic_Code_Text', 'RiskofRecidivism_ScoreText']).size().unstack().reset_index()"
   ]
  },
  {
   "cell_type": "code",
   "execution_count": null,
   "id": "6c43a4b6",
   "metadata": {},
   "outputs": [],
   "source": [
    "df_norecid['Total'] = df_norecid['Low'] + df_norecid['Medium'] + df_norecid['High']\n",
    "df_norecid['high_share'] = df_norecid['High']/df_norecid['Total']\n",
    "df_norecid"
   ]
  },
  {
   "cell_type": "markdown",
   "id": "f8dfc056",
   "metadata": {},
   "source": [
    "We see that about 24% percent of the African-Americans who have not (yet) reoffended were assumed to be high-risk of recidivism, whereas for the Caucasians and Hispanics, this share was below 10%. One may conclude from that that African-Americans are more likely perceived to be high risk even though they may not be vis-à-vis African-Americans."
   ]
  },
  {
   "cell_type": "markdown",
   "id": "860806ea",
   "metadata": {},
   "source": [
    "What else could we do to assess the fairness of the COMPAS prediction?"
   ]
  }
 ],
 "metadata": {
  "kernelspec": {
   "display_name": "Python 3 (ipykernel)",
   "language": "python",
   "name": "python3"
  },
  "language_info": {
   "codemirror_mode": {
    "name": "ipython",
    "version": 3
   },
   "file_extension": ".py",
   "mimetype": "text/x-python",
   "name": "python",
   "nbconvert_exporter": "python",
   "pygments_lexer": "ipython3",
   "version": "3.12.2"
  },
  "varInspector": {
   "cols": {
    "lenName": 16,
    "lenType": 16,
    "lenVar": 40
   },
   "kernels_config": {
    "python": {
     "delete_cmd_postfix": "",
     "delete_cmd_prefix": "del ",
     "library": "var_list.py",
     "varRefreshCmd": "print(var_dic_list())"
    },
    "r": {
     "delete_cmd_postfix": ") ",
     "delete_cmd_prefix": "rm(",
     "library": "var_list.r",
     "varRefreshCmd": "cat(var_dic_list()) "
    }
   },
   "types_to_exclude": [
    "module",
    "function",
    "builtin_function_or_method",
    "instance",
    "_Feature"
   ],
   "window_display": false
  }
 },
 "nbformat": 4,
 "nbformat_minor": 5
}
