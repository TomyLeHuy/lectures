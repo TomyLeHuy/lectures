{
 "cells": [
  {
   "cell_type": "markdown",
   "metadata": {},
   "source": [
    "**What you learn:**\n",
    "\n",
    "In this notebook you will learn about functional programming in Python. This includes list comprehensions, map(), unpacking (*-operator), zip(). \n",
    "\n",
    "Based on previous EDSAI lectures by [Jens Dittrich](https://github.com/BigDataAnalyticsGroup/python) and extended where appropriate."
   ]
  },
  {
   "cell_type": "markdown",
   "metadata": {},
   "source": [
    "#### List comprehensions - A concise way to create lists in Python."
   ]
  },
  {
   "cell_type": "markdown",
   "metadata": {},
   "source": [
    "A standard for-loop:"
   ]
  },
  {
   "cell_type": "code",
   "execution_count": null,
   "metadata": {},
   "outputs": [],
   "source": [
    "# Syntax:\n",
    "# for item in list:\n",
    "#    expression\n",
    "for n in range(5):\n",
    "    print(str(n)+\" hallo welt!\")"
   ]
  },
  {
   "cell_type": "code",
   "execution_count": null,
   "metadata": {},
   "outputs": [],
   "source": [
    "list(range(5))"
   ]
  },
  {
   "cell_type": "markdown",
   "metadata": {},
   "source": [
    "**vs**\n",
    "\n",
    "a list comprehension:"
   ]
  },
  {
   "cell_type": "code",
   "execution_count": null,
   "metadata": {},
   "outputs": [],
   "source": [
    "# Syntax:\n",
    "# [expression for item in list]\n",
    "#    \n",
    "[str(n)+\" hallo welt!\" for n in range(5)]"
   ]
  },
  {
   "cell_type": "markdown",
   "metadata": {},
   "source": [
    "A standard for-loop with an if-clause:"
   ]
  },
  {
   "cell_type": "code",
   "execution_count": null,
   "metadata": {},
   "outputs": [],
   "source": [
    "# Syntax:\n",
    "# for item in list:\n",
    "#    if condition:\n",
    "#        expression\n",
    "for n in range(5):\n",
    "    if n%2 == 0:\n",
    "        print(n, \" is even\")"
   ]
  },
  {
   "cell_type": "markdown",
   "metadata": {},
   "source": [
    "**vs**\n",
    "\n",
    "a list comprehension with an if-clause:"
   ]
  },
  {
   "cell_type": "code",
   "execution_count": null,
   "metadata": {},
   "outputs": [],
   "source": [
    "# Syntax:\n",
    "# [expression for item in list if condition]\n",
    "#    \n",
    "ar = [print(n, \" is even\") for n in range(5) if n%2 == 0]\n",
    "ar"
   ]
  },
  {
   "cell_type": "code",
   "execution_count": null,
   "metadata": {},
   "outputs": [],
   "source": [
    "def r(f):\n",
    "    print(\"output\",f)\n",
    "    return f\n",
    "# Syntax:\n",
    "# [expression for item in list if condition]\n",
    "#    \n",
    "[r(t) for t in ar if t == 4]"
   ]
  },
  {
   "cell_type": "markdown",
   "metadata": {},
   "source": [
    "#### map()\n",
    "\n",
    "map() is useful to map sequences of items. Do not confuse `map()` with the data structure `dictionary` (aka map) we introduced in a previous notebook.\n",
    "\n",
    "The difference is: map(key) -> value is a function mapping input keys to values.\n",
    "\n",
    "The data structure `dictionary` does something similar, however, only **for a predefined and materialized set of key/value-pairs**.\n",
    "\n",
    "In other words, a dictionary, for any given key can only return a value iff that key is present in the dictionary. In contrast, the more general `map()` is simply a function signature that is typically implemented by using code to map values to keys."
   ]
  },
  {
   "cell_type": "code",
   "execution_count": null,
   "metadata": {},
   "outputs": [],
   "source": [
    "d = {'id':[\"0102312\", \"0123614\"], 'name':[\"Doe, John\", \"Doe, Joanne\"], 'age':[37, 38]}\n",
    "d"
   ]
  },
  {
   "cell_type": "markdown",
   "metadata": {},
   "source": [
    "map() using a named function to calculate the year of birth for both individuals:"
   ]
  },
  {
   "cell_type": "code",
   "execution_count": null,
   "metadata": {},
   "outputs": [],
   "source": [
    "def year_of_birth(age):\n",
    "    return 2024 - age"
   ]
  },
  {
   "cell_type": "code",
   "execution_count": null,
   "metadata": {},
   "outputs": [],
   "source": [
    "d['year_of_birth'] = list(map(year_of_birth, d['age']))\n",
    "d"
   ]
  },
  {
   "cell_type": "markdown",
   "metadata": {},
   "source": [
    "map() using a lambda-function to calculate the year of birth for both individuals:"
   ]
  },
  {
   "cell_type": "code",
   "execution_count": null,
   "metadata": {},
   "outputs": [],
   "source": [
    "d.pop('year_of_birth')\n",
    "d"
   ]
  },
  {
   "cell_type": "code",
   "execution_count": null,
   "metadata": {},
   "outputs": [],
   "source": [
    "d['year_of_birth'] = list(map(lambda age: 2024 - age, d['age']))\n",
    "d"
   ]
  },
  {
   "cell_type": "markdown",
   "metadata": {},
   "source": [
    "Lambda functions are just functions, except that they are anonymous (literally). See [here](https://stackoverflow.com/questions/890128/why-are-python-lambdas-useful) for many good discussions. In short, you can use regular functions to achieve anything with `lambda`. Yet, it is handy because it is lightweight and anonymous.\n",
    "\n",
    "There is one and only one expression within the `lambda` function. In this case, the input parameter is `age`, it is expected to be an existing age key inside the dictionary `d`, here `d['age']`. The output of the lambda function is `2023 - age`."
   ]
  },
  {
   "cell_type": "markdown",
   "metadata": {},
   "source": [
    "#### Unpacking and the *-operator"
   ]
  },
  {
   "cell_type": "code",
   "execution_count": null,
   "metadata": {},
   "outputs": [],
   "source": [
    "my_list = [1, 2, 3, 4] \n",
    "\n",
    "def foo(a, b, c, d): \n",
    "    print(a, b, c, d) \n",
    "  \n",
    "print(\"my_list:\", my_list)\n",
    "print(\"*my_list:\", *my_list)\n",
    "\n",
    "# unpack my_list into four arguments:\n",
    "foo(*my_list)  # equivalent to: foo(my_list[0], my_list[1], my_list[2], my_list[3] )\n",
    "\n",
    "#fun(my_list) "
   ]
  },
  {
   "cell_type": "markdown",
   "metadata": {},
   "source": [
    "**Example usage:**"
   ]
  },
  {
   "cell_type": "code",
   "execution_count": null,
   "metadata": {},
   "outputs": [],
   "source": [
    "# define two lists:\n",
    "longitude = range(5)\n",
    "latitude = range(5,11)"
   ]
  },
  {
   "cell_type": "code",
   "execution_count": null,
   "metadata": {},
   "outputs": [],
   "source": [
    "longitude"
   ]
  },
  {
   "cell_type": "markdown",
   "metadata": {},
   "source": [
    "we obtain an object of type range but we want to have a list!\n",
    "\n",
    "how do we obtain a list?"
   ]
  },
  {
   "cell_type": "code",
   "execution_count": null,
   "metadata": {},
   "outputs": [],
   "source": [
    "# using a comprehension:\n",
    "[i for i in longitude]"
   ]
  },
  {
   "cell_type": "code",
   "execution_count": null,
   "metadata": {},
   "outputs": [],
   "source": [
    "# using the star-operator and list brackets []\n",
    "[*longitude] + [*latitude]"
   ]
  },
  {
   "cell_type": "markdown",
   "metadata": {},
   "source": [
    "#### zip():"
   ]
  },
  {
   "cell_type": "code",
   "execution_count": null,
   "metadata": {},
   "outputs": [],
   "source": [
    "# zip the two lists together:\n",
    "zipped = zip(longitude,latitude)\n",
    "[i for i in zipped]"
   ]
  },
  {
   "cell_type": "code",
   "execution_count": null,
   "metadata": {},
   "outputs": [],
   "source": [
    "# or using star:\n",
    "zipped = [*zip(longitude,latitude)]\n",
    "zipped"
   ]
  },
  {
   "cell_type": "markdown",
   "metadata": {},
   "source": [
    "Another example"
   ]
  },
  {
   "cell_type": "code",
   "execution_count": null,
   "metadata": {},
   "outputs": [],
   "source": [
    "iso3 = ['AFG', 'PAK', 'GHA', 'GHA']\n",
    "province = ['KANDAHAR', 'PUNJAB', 'ASHANTI', 'VOLTA']"
   ]
  },
  {
   "cell_type": "code",
   "execution_count": null,
   "metadata": {},
   "outputs": [],
   "source": [
    "iso3 + province"
   ]
  },
  {
   "cell_type": "code",
   "execution_count": null,
   "metadata": {},
   "outputs": [],
   "source": [
    "[x + \"_\" + y for x, y in zip(iso3, province)]"
   ]
  }
 ],
 "metadata": {
  "kernelspec": {
   "display_name": "Python 3 (ipykernel)",
   "language": "python",
   "name": "python3"
  },
  "language_info": {
   "codemirror_mode": {
    "name": "ipython",
    "version": 3
   },
   "file_extension": ".py",
   "mimetype": "text/x-python",
   "name": "python",
   "nbconvert_exporter": "python",
   "pygments_lexer": "ipython3",
   "version": "3.12.2"
  },
  "varInspector": {
   "cols": {
    "lenName": 16,
    "lenType": 16,
    "lenVar": 40
   },
   "kernels_config": {
    "python": {
     "delete_cmd_postfix": "",
     "delete_cmd_prefix": "del ",
     "library": "var_list.py",
     "varRefreshCmd": "print(var_dic_list())"
    },
    "r": {
     "delete_cmd_postfix": ") ",
     "delete_cmd_prefix": "rm(",
     "library": "var_list.r",
     "varRefreshCmd": "cat(var_dic_list()) "
    }
   },
   "position": {
    "height": "339px",
    "left": "918px",
    "right": "20px",
    "top": "120px",
    "width": "347px"
   },
   "types_to_exclude": [
    "module",
    "function",
    "builtin_function_or_method",
    "instance",
    "_Feature"
   ],
   "window_display": false
  }
 },
 "nbformat": 4,
 "nbformat_minor": 4
}
