{
 "cells": [
  {
   "cell_type": "markdown",
   "metadata": {},
   "source": [
    "**What you learn:**\n",
    "\n",
    "In this notebook you will learn about object-oriented programming in Python. \n",
    "\n",
    "Based on previous EDSAI lectures by [Jens Dittrich](https://github.com/BigDataAnalyticsGroup/python) and amended where appropriate."
   ]
  },
  {
   "cell_type": "markdown",
   "metadata": {},
   "source": [
    "### Classes, instances and objects"
   ]
  },
  {
   "cell_type": "markdown",
   "metadata": {},
   "source": [
    "Object-oriented programming (OOP) allows you to model real-world entities, their attributes, and behaviors in a structured and modular way. A class is a blueprint for creating objects. A specific realization of a class is called instance and is an object with specific characteristics and behaviours.\n",
    "\n",
    "Advantages of OOP:\n",
    "\n",
    "- **Abstraction**: Break down complex data systems into smaller, manageable parts.\n",
    "- **Encapsulation**: Keep data attributes and respective methods in a single unit.\n",
    "- **Reusability**: Create a class once and use it to create multiple instances (objects).\n",
    "- **Inheritance**: Develop hierarchies of related objects.\n",
    "- **Polymorphism**: Allows objects to respond to the same method or function call in a class-specific way by method overriding/-loading\n",
    "- **Code organization**: Keeps code modular and logically structured"
   ]
  },
  {
   "cell_type": "markdown",
   "metadata": {},
   "source": [
    "##### Define a class\n",
    "\n",
    "A class is a blueprint/template for creating objects."
   ]
  },
  {
   "cell_type": "code",
   "execution_count": null,
   "metadata": {},
   "outputs": [],
   "source": [
    "class Person:\n",
    "    \n",
    "    \"\"\"\n",
    "    This class defines the characteristics of individuals (name and age) and their behaviour (saying hello).\n",
    "    \"\"\"\n",
    "    \n",
    "    # the constructor\n",
    "    def __init__(self, name, age = 30):\n",
    "        self.name = name\n",
    "        self.age = age\n",
    "\n",
    "    def greet(self):\n",
    "        print(f\"Hello, my name is {self.name} and I am {self.age} years old.\")"
   ]
  },
  {
   "cell_type": "markdown",
   "metadata": {},
   "source": [
    "##### Create an instance of the class `Person`"
   ]
  },
  {
   "cell_type": "code",
   "execution_count": null,
   "metadata": {},
   "outputs": [],
   "source": [
    "person1 = Person(\"Till Koebe\", 36)\n",
    "person2 = Person(\"Ingmar Weber\", 46)"
   ]
  },
  {
   "cell_type": "code",
   "execution_count": null,
   "metadata": {},
   "outputs": [],
   "source": [
    "person1.age"
   ]
  },
  {
   "cell_type": "markdown",
   "metadata": {},
   "source": [
    "The instance `person1` of class `Person` is also an object. "
   ]
  },
  {
   "cell_type": "markdown",
   "metadata": {},
   "source": [
    "##### Access attributes"
   ]
  },
  {
   "cell_type": "code",
   "execution_count": null,
   "metadata": {},
   "outputs": [],
   "source": [
    "person1.age"
   ]
  },
  {
   "cell_type": "markdown",
   "metadata": {},
   "source": [
    "##### Access methods"
   ]
  },
  {
   "cell_type": "code",
   "execution_count": null,
   "metadata": {},
   "outputs": [],
   "source": [
    "person1.greet()"
   ]
  },
  {
   "cell_type": "markdown",
   "metadata": {},
   "source": [
    "### Inheritance"
   ]
  },
  {
   "cell_type": "code",
   "execution_count": null,
   "metadata": {},
   "outputs": [],
   "source": [
    "# Child class (subclass) - Student (inherits from Person)\n",
    "class Student(Person):\n",
    "    def __init__(self, name, age, status):\n",
    "        # Call the constructor of the parent class\n",
    "        super().__init__(name, age)\n",
    "        self.status = status\n",
    "\n",
    "    def uni_status(self):\n",
    "        print(f\"{self.name} is currently {self.status} at the university.\")"
   ]
  },
  {
   "cell_type": "markdown",
   "metadata": {},
   "source": [
    "##### Create instances"
   ]
  },
  {
   "cell_type": "code",
   "execution_count": null,
   "metadata": {},
   "outputs": [],
   "source": [
    "person1 = Student(\"Till Koebe\", 36, 'employed')"
   ]
  },
  {
   "cell_type": "code",
   "execution_count": null,
   "metadata": {},
   "outputs": [],
   "source": [
    "person1.status"
   ]
  },
  {
   "cell_type": "code",
   "execution_count": null,
   "metadata": {},
   "outputs": [],
   "source": [
    "person1 = Person(\"Till Koebe\", 36)\n",
    "student1 = Student(\"Till Koebe\", 36, \"employed\")"
   ]
  },
  {
   "cell_type": "markdown",
   "metadata": {},
   "source": [
    "##### Using methods and attributes from both classes"
   ]
  },
  {
   "cell_type": "code",
   "execution_count": null,
   "metadata": {
    "scrolled": true
   },
   "outputs": [],
   "source": [
    "person1.greet()\n",
    "student1.greet()\n",
    "student1.uni_status()"
   ]
  },
  {
   "cell_type": "markdown",
   "metadata": {},
   "source": [
    "### Polymorphism"
   ]
  },
  {
   "cell_type": "markdown",
   "metadata": {},
   "source": [
    "Allows overriding/-loading methods depending on the class of the object"
   ]
  },
  {
   "cell_type": "code",
   "execution_count": null,
   "metadata": {},
   "outputs": [],
   "source": [
    "# Child class (subclass) - Student (inherits from Person)\n",
    "class Student(Person):\n",
    "    def __init__(self, name, age, status):\n",
    "        # Call the constructor of the parent class\n",
    "        super().__init__(name, age)\n",
    "        self.status = status\n",
    "\n",
    "    def uni_status(self):\n",
    "        print(f\"{self.name} is currently {self.status} at the university.\")\n",
    "        \n",
    "    def greet(self):\n",
    "        print(f\"Hello, my name is {self.name} and I am {self.age} years old and {self.status} at the university.\")"
   ]
  },
  {
   "cell_type": "markdown",
   "metadata": {},
   "source": [
    "Re-create instances"
   ]
  },
  {
   "cell_type": "code",
   "execution_count": null,
   "metadata": {},
   "outputs": [],
   "source": [
    "person1 = Person(\"Till Koebe\", 36)\n",
    "student1 = Student(\"Till Koebe\", 36, \"employed\")"
   ]
  },
  {
   "cell_type": "code",
   "execution_count": null,
   "metadata": {
    "scrolled": true
   },
   "outputs": [],
   "source": [
    "person1.age()"
   ]
  }
 ],
 "metadata": {
  "kernelspec": {
   "display_name": "Python 3 (ipykernel)",
   "language": "python",
   "name": "python3"
  },
  "language_info": {
   "codemirror_mode": {
    "name": "ipython",
    "version": 3
   },
   "file_extension": ".py",
   "mimetype": "text/x-python",
   "name": "python",
   "nbconvert_exporter": "python",
   "pygments_lexer": "ipython3",
   "version": "3.12.2"
  },
  "varInspector": {
   "cols": {
    "lenName": 16,
    "lenType": 16,
    "lenVar": 40
   },
   "kernels_config": {
    "python": {
     "delete_cmd_postfix": "",
     "delete_cmd_prefix": "del ",
     "library": "var_list.py",
     "varRefreshCmd": "print(var_dic_list())"
    },
    "r": {
     "delete_cmd_postfix": ") ",
     "delete_cmd_prefix": "rm(",
     "library": "var_list.r",
     "varRefreshCmd": "cat(var_dic_list()) "
    }
   },
   "position": {
    "height": "240px",
    "left": "868px",
    "right": "20px",
    "top": "122px",
    "width": "378px"
   },
   "types_to_exclude": [
    "module",
    "function",
    "builtin_function_or_method",
    "instance",
    "_Feature"
   ],
   "window_display": false
  }
 },
 "nbformat": 4,
 "nbformat_minor": 4
}
