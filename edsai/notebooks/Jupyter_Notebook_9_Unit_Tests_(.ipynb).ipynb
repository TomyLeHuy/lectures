{
 "cells": [
  {
   "cell_type": "markdown",
   "metadata": {},
   "source": [
    "**What you learn:**\n",
    "\n",
    "In this notebook you will learn about automatic unit tests in Python.   \n",
    "\n",
    "Based on previous year's EDSAI lectures by [Jens Dittrich](https://github.com/BigDataAnalyticsGroup/python) and extended where appropriate."
   ]
  },
  {
   "cell_type": "markdown",
   "metadata": {},
   "source": [
    "## unittests\n",
    "\n",
    "How do we make sure that a certain function does what we expect it to do?\n",
    "\n",
    "The answer is **unittests**. A unittest checks whether a given function produces an expected output for a given input.\n",
    "\n",
    "So, for any Python function out = f(in) that we implement, a unittest defines typically multiple (in, out)-tuples.\n",
    "\n",
    "In any **real** software delevopment unittests are the state-of-the-art method to control the correctness of your software. Unittests are typically executed automatically (every night, every time you change anything, etc.)\n",
    "\n",
    "Do not confuse the terms `try out` with `testing`.\n",
    "\n",
    "`try out`: let's run my program with a couple of inputs and see what happens, if it looks good, we are done. Really?\n",
    "\n",
    "`testing`: write unittests for each and every situation we expect our function to do. Run these tests systematically every time you change anything in your code. This is also called `automatic testing`. If we pass all tests, we are done.\n",
    "\n"
   ]
  },
  {
   "cell_type": "markdown",
   "metadata": {},
   "source": [
    "#### Principle structure of a test"
   ]
  },
  {
   "cell_type": "code",
   "execution_count": null,
   "metadata": {},
   "outputs": [],
   "source": [
    "import unittest\n",
    "\n",
    "# 'class' wraps a number of tests into a single unit\n",
    "# this comes from a programming paradigm called \"object-oriented programming\" (OOP),\n",
    "# which you do not really need for this lecture\n",
    "# simply read it as \"a class bundles a couple of test-functions into one unit\"\n",
    "#\n",
    "# in OOP-terms:\n",
    "# \"this is a class definition extending/inheriting from unittest.TestCase\" \n",
    "class MyTest(unittest.TestCase):\n",
    "\n",
    "    # the following function will be called before every test-function:\n",
    "    def setUp(self):\n",
    "        print('setUp MyTest')\n",
    "        \n",
    "    # each test-function must have a name starting with 'test':\n",
    "    def test_1(self):\n",
    "        print('test_1')\n",
    "\n",
    "    def test_2(self):\n",
    "        print('test_2')\n",
    "\n",
    "    def test_3(self):\n",
    "        print('test_3')\n",
    "\n",
    "    # the following function will be called after every test-function:\n",
    "    def tearDown(self):\n",
    "        print('tearDown')"
   ]
  },
  {
   "cell_type": "code",
   "execution_count": null,
   "metadata": {},
   "outputs": [],
   "source": [
    "# Run the unit test without shutting down the jupyter kernel\n",
    "# notice that this call will look for all test classes, i.e.\n",
    "# all classes inheriting from unittest.TestCase\n",
    "# each of these functions will be executed once\n",
    "# unittest.main(argv=['ignored', '-v'], verbosity=2, exit=False)\n",
    "\n",
    "# only execute a specific Test-class:\n",
    "unittest.main(argv=['ignored', '-v'], defaultTest='MyTest', verbosity=2, exit=False)\n"
   ]
  },
  {
   "cell_type": "markdown",
   "metadata": {},
   "source": [
    "#### Example Testing Scenario"
   ]
  },
  {
   "cell_type": "code",
   "execution_count": null,
   "metadata": {},
   "outputs": [],
   "source": [
    "# some class we implemented:\n",
    "class Person:\n",
    "    def __init__(self):\n",
    "        self.age = 35\n",
    "        \n",
    "    def year_of_birth(age):\n",
    "        yob = 2023 - self.age\n",
    "\n",
    "        return yob"
   ]
  },
  {
   "cell_type": "code",
   "execution_count": null,
   "metadata": {},
   "outputs": [],
   "source": [
    "b = Person()"
   ]
  },
  {
   "cell_type": "code",
   "execution_count": null,
   "metadata": {},
   "outputs": [],
   "source": [
    "b.age"
   ]
  },
  {
   "cell_type": "code",
   "execution_count": null,
   "metadata": {},
   "outputs": [],
   "source": [
    "# unittests in Python are very similar to unittests in Java:\n",
    "import unittest\n",
    "\n",
    "class PersonTest(unittest.TestCase):\n",
    "    # the following method will be called before every test-Method\n",
    "    def setUp(self):\n",
    "        print(\"Setup unittest for Person class\")\n",
    "        self.person = Person()\n",
    "        \n",
    "    def test_init(self):\n",
    "        print('Test for equality of the results')\n",
    "        self.assertEqual(self.person.age, 35)"
   ]
  },
  {
   "cell_type": "code",
   "execution_count": null,
   "metadata": {},
   "outputs": [],
   "source": [
    "# only execute a specific Test-class:\n",
    "unittest.main(argv=['ignored', '-v'], defaultTest='PersonTest', verbosity=2, exit=False)"
   ]
  }
 ],
 "metadata": {
  "hide_input": false,
  "kernelspec": {
   "display_name": "Python 3 (ipykernel)",
   "language": "python",
   "name": "python3"
  },
  "language_info": {
   "codemirror_mode": {
    "name": "ipython",
    "version": 3
   },
   "file_extension": ".py",
   "mimetype": "text/x-python",
   "name": "python",
   "nbconvert_exporter": "python",
   "pygments_lexer": "ipython3",
   "version": "3.12.2"
  },
  "toc": {
   "base_numbering": 1,
   "nav_menu": {},
   "number_sections": true,
   "sideBar": true,
   "skip_h1_title": false,
   "title_cell": "Table of Contents",
   "title_sidebar": "Contents",
   "toc_cell": false,
   "toc_position": {
    "height": "840px",
    "left": "0px",
    "right": "1111px",
    "top": "113px",
    "width": "253px"
   },
   "toc_section_display": "block",
   "toc_window_display": true
  },
  "varInspector": {
   "cols": {
    "lenName": 16,
    "lenType": 16,
    "lenVar": 40
   },
   "kernels_config": {
    "python": {
     "delete_cmd_postfix": "",
     "delete_cmd_prefix": "del ",
     "library": "var_list.py",
     "varRefreshCmd": "print(var_dic_list())"
    },
    "r": {
     "delete_cmd_postfix": ") ",
     "delete_cmd_prefix": "rm(",
     "library": "var_list.r",
     "varRefreshCmd": "cat(var_dic_list()) "
    }
   },
   "types_to_exclude": [
    "module",
    "function",
    "builtin_function_or_method",
    "instance",
    "_Feature"
   ],
   "window_display": false
  }
 },
 "nbformat": 4,
 "nbformat_minor": 4
}
